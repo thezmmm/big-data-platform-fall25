{
 "cells": [
  {
   "cell_type": "markdown",
   "metadata": {},
   "source": [
    "Before you turn this problem in, make sure everything runs as expected. First, **restart the kernel** (in the menubar, select Kernel$\\rightarrow$Restart) and then **run all cells** (in the menubar, select Cell$\\rightarrow$Run All).\n",
    "\n",
    "Make sure you fill in any place that says `YOUR CODE HERE` or \"YOUR ANSWER HERE\". You can run all the tests with the validate button. If the validate command takes too long, you can also confirm that you pass all the tests if you can run through the whole notebook without getting validation errors."
   ]
  },
  {
   "cell_type": "markdown",
   "metadata": {
    "deletable": false,
    "editable": false,
    "nbgrader": {
     "cell_type": "markdown",
     "checksum": "d4f2a9a3135e9e1e2394550af72a2c36",
     "grade": false,
     "grade_id": "cell-7f2cae05492e6bb6",
     "locked": true,
     "schema_version": 3,
     "solution": false,
     "task": false
    }
   },
   "source": [
    "For this problem set, we'll be using the Jupyter notebook:\n",
    "\n",
    "![](jupyter.png)"
   ]
  },
  {
   "cell_type": "markdown",
   "metadata": {
    "deletable": false,
    "editable": false,
    "nbgrader": {
     "cell_type": "markdown",
     "checksum": "e34ac3f62321e2ef28762e28cf1f2443",
     "grade": false,
     "grade_id": "cell-bab5d9941b66afa2",
     "locked": true,
     "schema_version": 3,
     "solution": false,
     "task": false
    }
   },
   "source": [
    "## Structured Streaming exercises\n",
    "\n",
    "In this problem set you will use structured streaming to analyze made-up trail camera data. We will simulate real-time streaming by having multiple data files and loading them one by one.\n",
    "\n",
    "https://spark.apache.org/docs/latest/structured-streaming-programming-guide.html\n",
    "\n"
   ]
  },
  {
   "cell_type": "code",
   "metadata": {
    "deletable": false,
    "editable": false,
    "nbgrader": {
     "cell_type": "code",
     "checksum": "fe1fbfc4dee99cacf13c6425cebcdccf",
     "grade": false,
     "grade_id": "cell-45313625bf65eeee",
     "locked": true,
     "schema_version": 3,
     "solution": false,
     "task": false
    },
    "ExecuteTime": {
     "end_time": "2025-10-07T08:03:11.779849Z",
     "start_time": "2025-10-07T08:03:11.768661Z"
    }
   },
   "source": [
    "from pyspark.sql import SparkSession, Row\n",
    "import pyspark.sql\n",
    "import json\n",
    "from pyspark.sql.types import *\n",
    "import time\n",
    "from IPython.display import display, clear_output\n",
    "import pandas as pd\n",
    "\n",
    "spark = SparkSession \\\n",
    "    .builder \\\n",
    "    .appName(\"StructuredStreaming\") \\\n",
    "    .getOrCreate()\n",
    "\n",
    "path = \"data/\""
   ],
   "outputs": [],
   "execution_count": 54
  },
  {
   "cell_type": "markdown",
   "metadata": {
    "deletable": false,
    "editable": false,
    "nbgrader": {
     "cell_type": "markdown",
     "checksum": "e9dccebaad20b5ac1acc18a961fcadd4",
     "grade": false,
     "grade_id": "cell-de5e235299290c20",
     "locked": true,
     "schema_version": 3,
     "solution": false,
     "task": false
    }
   },
   "source": [
    "## Load data\n",
    "\n",
    "First we'll start with normal dataframe exercises. Create a method that loads the trail camera data into a dataframe. The data is in JSON format. You might have to specify the schema with the StructType methods. The dataframe will have null values called 'null', you will have to drop rows with null values. When reading JSON you will have to use the option multiLine=true with `.option(\"multiLine\", \"true\")`. This dataframe simulates the input dataframe that we will use for streaming.\n",
    "\n",
    "param `path`: path to the JSON dataset.\n",
    "\n",
    "`return`: dataframe containing trail camera information.\n",
    "\n",
    "schema:\n",
    "\n",
    "Name | Type\n",
    "------| :-----\n",
    "time  | Timestamp (nullable = true)\n",
    "animal_name | String (nullable = true)\n",
    "weather | String (nullable = true)\n",
    "battery | Double (nullable = true)"
   ]
  },
  {
   "cell_type": "code",
   "metadata": {
    "deletable": false,
    "nbgrader": {
     "cell_type": "code",
     "checksum": "881d43c4a14b7ce6557b05b0763e87aa",
     "grade": false,
     "grade_id": "cell-6b0ed104e544111a",
     "locked": false,
     "schema_version": 3,
     "solution": true,
     "task": false
    },
    "ExecuteTime": {
     "end_time": "2025-10-07T08:03:11.841527Z",
     "start_time": "2025-10-07T08:03:11.832756Z"
    }
   },
   "source": [
    "# Create DataFrame representing data in the JSON files\n",
    "def loadData(path):    \n",
    "    # YOUR CODE HERE\n",
    "    # raise NotImplementedError()\n",
    "    schema = StructType([\n",
    "        StructField(\"time\", TimestampType(), True),\n",
    "        StructField(\"animal_name\", StringType(), True),\n",
    "        StructField(\"weather\", StringType(), True),\n",
    "        StructField(\"battery\", DoubleType(), True)\n",
    "    ])\n",
    "\n",
    "    df = spark.read \\\n",
    "        .option(\"multiLine\", \"true\") \\\n",
    "        .schema(schema) \\\n",
    "        .json(path)\n",
    "\n",
    "    df_clean = df.dropna()\n",
    "\n",
    "    return df_clean"
   ],
   "outputs": [],
   "execution_count": 55
  },
  {
   "cell_type": "code",
   "metadata": {
    "ExecuteTime": {
     "end_time": "2025-10-07T08:03:12.131231Z",
     "start_time": "2025-10-07T08:03:11.862886Z"
    }
   },
   "source": [
    "#example print\n",
    "loadData(path).show()"
   ],
   "outputs": [
    {
     "name": "stdout",
     "output_type": "stream",
     "text": [
      "+-------------------+-----------+-------+-------+\n",
      "|               time|animal_name|weather|battery|\n",
      "+-------------------+-----------+-------+-------+\n",
      "|2019-10-06 09:08:45|   Squirrel|  Clear|   12.0|\n",
      "|2020-04-18 21:50:40|       Deer|  Clear|    7.0|\n",
      "|2020-03-10 11:23:34|   Squirrel|  Clear|   86.0|\n",
      "|2019-11-09 20:36:04|   Squirrel|  Clear|   55.0|\n",
      "|2019-10-31 07:22:20|   Squirrel| Cloudy|   12.0|\n",
      "|2020-05-04 10:59:35|   Squirrel|  Clear|   64.0|\n",
      "|2020-01-30 14:21:35|   Squirrel|  Clear|   34.0|\n",
      "|2019-10-29 19:20:05|     Rabbit|  Rainy|    6.0|\n",
      "|2020-01-30 11:34:51|   Squirrel|  Rainy|   96.0|\n",
      "|2020-07-17 19:32:23|       Deer| Cloudy|   17.0|\n",
      "|2020-05-27 09:42:41|   Squirrel|  Rainy|    5.0|\n",
      "|2020-05-28 09:00:05|       Bear|  Storm|   53.0|\n",
      "|2020-08-07 11:02:38|       Deer| Cloudy|   14.0|\n",
      "|2019-06-22 16:02:52|     Rabbit|  Clear|   13.0|\n",
      "|2019-09-23 11:56:31|   Squirrel|  Clear|   95.0|\n",
      "|2020-05-31 07:27:03|   Squirrel|  Clear|  100.0|\n",
      "|2019-11-29 19:11:53|     Rabbit|  Clear|   71.0|\n",
      "|2020-03-23 20:06:24|     Rabbit|  Clear|   19.0|\n",
      "|2019-07-12 10:45:52|   Squirrel|  Rainy|   15.0|\n",
      "|2020-05-30 13:07:53|     Rabbit|  Rainy|   84.0|\n",
      "+-------------------+-----------+-------+-------+\n",
      "only showing top 20 rows\n",
      "\n"
     ]
    }
   ],
   "execution_count": 56
  },
  {
   "cell_type": "code",
   "metadata": {
    "deletable": false,
    "editable": false,
    "nbgrader": {
     "cell_type": "code",
     "checksum": "09b44bad1a03bbb714a22913b8f70ae7",
     "grade": true,
     "grade_id": "cell-23cda96e1af452c0",
     "locked": true,
     "points": 1,
     "schema_version": 3,
     "solution": false,
     "task": false
    },
    "ExecuteTime": {
     "end_time": "2025-10-07T08:03:12.665449Z",
     "start_time": "2025-10-07T08:03:12.172255Z"
    }
   },
   "source": [
    "'''loadData tests'''\n",
    "\n",
    "cols = StructType([ StructField(\"time\", TimestampType(), True),\n",
    "                    StructField(\"animal_name\", StringType(), True),\n",
    "                    StructField(\"weather\", StringType(), True),\n",
    "                    StructField(\"battery\", DoubleType(), True)])\n",
    "\n",
    "\n",
    "from datetime import datetime\n",
    "testTs = datetime(2020, 1, 1)\n",
    "\n",
    "fakeData = [(testTs, \"dog\", \"cloudy\", 100.0)]\n",
    "\n",
    "fakeDf = spark.createDataFrame(fakeData, cols)\n",
    "\n",
    "df = loadData(path)\n",
    "\n",
    "assert df.dtypes == fakeDf.dtypes, \"the schema was expected to be %s but it was %s\" % (fakeDf.dtypes, df.dtypes)\n",
    "\n",
    "test = str(loadData(path).sample(False, 0.01, seed=12345).first())\n",
    "correct = \"Row(time=datetime.datetime(2020, 4, 18, 21, 50, 40), animal_name='Deer', weather='Clear', battery=7.0)\"\n",
    "assert test == correct, \"the row was expected to be %s but it was %s\" % (correct, test)\n"
   ],
   "outputs": [],
   "execution_count": 57
  },
  {
   "cell_type": "markdown",
   "metadata": {
    "deletable": false,
    "editable": false,
    "nbgrader": {
     "cell_type": "markdown",
     "checksum": "4e93434ba9020fc2e5fce03244f68c4f",
     "grade": false,
     "grade_id": "cell-5634898feaf9bf39",
     "locked": true,
     "schema_version": 3,
     "solution": false,
     "task": false
    }
   },
   "source": [
    "## Animal count\n",
    "\n",
    "Next we will simulate the output dataframe that we will use for streaming. Create a method that counts the number of appearences for each animal. The dataframe should be sorted by count in descending order.\n",
    "\n",
    "param `df`: trail camera dataframe created using `loadData`.\n",
    "\n",
    "`return`: dataframe containing number of appearences per animal. The dataframe should include columns \"animal_name\" and \"count\". \"count\"  should be in Long format, it should happen automatically with spark functions. The dataframe must not include count for null values.\n",
    "\n",
    "example output:\n",
    "\n",
    "animal_name|count\n",
    "-------:|-----\n",
    "Dog| 1234|\n",
    "Cat| 1111|\n",
    "Mouse| 999|"
   ]
  },
  {
   "cell_type": "code",
   "metadata": {
    "deletable": false,
    "nbgrader": {
     "cell_type": "code",
     "checksum": "a3549ed5221081c067054be0eb92d791",
     "grade": false,
     "grade_id": "cell-7200a4dc05503fec",
     "locked": false,
     "schema_version": 3,
     "solution": true,
     "task": false
    },
    "ExecuteTime": {
     "end_time": "2025-10-07T08:03:12.692858Z",
     "start_time": "2025-10-07T08:03:12.687360Z"
    }
   },
   "source": [
    "from pyspark.sql.functions import col, count\n",
    "\n",
    "def animalCount(df):\n",
    "    # YOUR CODE HERE\n",
    "    # raise NotImplementedError()\n",
    "    df_filtered = df.filter(col(\"animal_name\").isNotNull())\n",
    "    df_count = df_filtered.groupBy(\"animal_name\") \\\n",
    "                          .agg(count(\"*\").alias(\"count\")) \\\n",
    "                          .orderBy(col(\"count\").desc())\n",
    "\n",
    "    return df_count"
   ],
   "outputs": [],
   "execution_count": 58
  },
  {
   "cell_type": "code",
   "metadata": {
    "ExecuteTime": {
     "end_time": "2025-10-07T08:03:13.199409Z",
     "start_time": "2025-10-07T08:03:12.710507Z"
    }
   },
   "source": [
    "#example print\n",
    "animalCount(loadData(path)).show()"
   ],
   "outputs": [
    {
     "name": "stdout",
     "output_type": "stream",
     "text": [
      "+-----------+-----+\n",
      "|animal_name|count|\n",
      "+-----------+-----+\n",
      "|     Rabbit|  808|\n",
      "|   Squirrel|  774|\n",
      "|       Deer|  241|\n",
      "|       Bear|   74|\n",
      "|       Wolf|   73|\n",
      "+-----------+-----+\n",
      "\n"
     ]
    }
   ],
   "execution_count": 59
  },
  {
   "cell_type": "code",
   "metadata": {
    "deletable": false,
    "editable": false,
    "nbgrader": {
     "cell_type": "code",
     "checksum": "067cdbe9080669b3cf8383aa4645edff",
     "grade": true,
     "grade_id": "cell-2f1a372bdc6469a8",
     "locked": true,
     "points": 1,
     "schema_version": 3,
     "solution": false,
     "task": false
    },
    "ExecuteTime": {
     "end_time": "2025-10-07T08:03:17.262402Z",
     "start_time": "2025-10-07T08:03:13.223347Z"
    }
   },
   "source": [
    "'''animalCount tests'''\n",
    "\n",
    "cols = StructType([ StructField(\"animal_name\", StringType(), True),\n",
    "                    StructField(\"count\", LongType(), False)])\n",
    "\n",
    "\n",
    "fakeData = [(\"dog\", 1)]\n",
    "\n",
    "fakeDf = spark.createDataFrame(fakeData, cols)\n",
    "\n",
    "df = animalCount(loadData(path))\n",
    "\n",
    "assert df.dtypes == fakeDf.dtypes, \"the schema was expected to be %s but it was %s\" % (fakeDf.dtypes, df.dtypes)\n",
    "\n",
    "assert df.count() == 5, \"the number of rows was expected to be 5 but it was %s\" % df.count()\n",
    "\n",
    "df = df.toPandas()\n",
    "\n",
    "assert df.iloc[0, 1] >= df.iloc[1, 1], \"the first item was expected to have higher count than the second\"\n",
    "assert df.iloc[3, 1] >= df.iloc[4, 1], \"the fourth item was expected to have higher count than the last\"\n",
    "assert df.iloc[0, 0] == \"Rabbit\", \"the first item was expected to be Rabbit but it was %s\" % df.iloc[0, 0]\n",
    "assert df.iloc[4, 0] == \"Wolf\", \"the last item was expected to be Wolf but it was %s\" % df.iloc[4, 0]\n",
    "\n",
    "test1 = str(animalCount(loadData(path)).sample(False, 0.1, seed=1).first())\n",
    "correct1 = \"Row(animal_name='Bear', count=74)\"\n",
    "assert test1 == correct1, \"the row was expected to be %s but it was %s\" % (correct1, test1)\n"
   ],
   "outputs": [],
   "execution_count": 60
  },
  {
   "cell_type": "markdown",
   "metadata": {
    "deletable": false,
    "editable": false,
    "nbgrader": {
     "cell_type": "markdown",
     "checksum": "5b96c364501acb69267ae3aaba250ec6",
     "grade": false,
     "grade_id": "cell-97647ea5af984e11",
     "locked": true,
     "schema_version": 3,
     "solution": false,
     "task": false
    }
   },
   "source": [
    "## inputDf\n",
    "\n",
    "Now we will finally do the streaming. First you should specify the schema for the input dataframe. The schema is the same as in the Load Data exercise. Then you should create the input dataframe with `spark.readStream` method. Remember to include the schema and the path. You will also have to include `.option(\"maxFilesPerTrigger\", 1)` so that we can simulate real-time streaming by loading one file at a time. You should also again use the option multiLine=true. You should remove null values either in this inputDf function or in the next outputDf function.\n",
    "\n",
    "param `path`: path to the JSON dataset.\n",
    "\n",
    "`return`: input dataframe containing trail camera information."
   ]
  },
  {
   "cell_type": "code",
   "metadata": {
    "deletable": false,
    "nbgrader": {
     "cell_type": "code",
     "checksum": "0b279959bef32628916d5754f784cf92",
     "grade": false,
     "grade_id": "cell-6856edef4018385b",
     "locked": false,
     "schema_version": 3,
     "solution": true,
     "task": false
    },
    "ExecuteTime": {
     "end_time": "2025-10-07T08:03:17.299098Z",
     "start_time": "2025-10-07T08:03:17.290153Z"
    }
   },
   "source": [
    "def inputDf(path):    \n",
    "    # YOUR CODE HERE\n",
    "    # raise NotImplementedError()\n",
    "    schema = StructType([\n",
    "        StructField(\"time\", TimestampType(), True),\n",
    "        StructField(\"animal_name\", StringType(), True),\n",
    "        StructField(\"weather\", StringType(), True),\n",
    "        StructField(\"battery\", DoubleType(), True)\n",
    "    ])\n",
    "    df= spark.readStream\\\n",
    "        .schema(schema)\\\n",
    "        .option(\"multiLine\", \"true\")\\\n",
    "        .option(\"maxFilesPerTrigger\", 1) \\\n",
    "        .json(path)\n",
    "    df = df.dropna()\n",
    "    return df"
   ],
   "outputs": [],
   "execution_count": 61
  },
  {
   "cell_type": "markdown",
   "metadata": {
    "deletable": false,
    "editable": false,
    "nbgrader": {
     "cell_type": "markdown",
     "checksum": "ddd2a8d6cebc27ff80ff38bff45eb159",
     "grade": false,
     "grade_id": "cell-527d914dbbb0585d",
     "locked": true,
     "schema_version": 3,
     "solution": false,
     "task": false
    }
   },
   "source": [
    "## outputDf\n",
    "\n",
    "Next you should create the output dataframe, similar to the Animal Count exercise. You will have to exclude the null values and sort the dataframe by count, descending order.\n",
    "\n",
    "param `inputDF`: input dataframe created by `inputDf()`.\n",
    "\n",
    "`return`: filtered and sorted dataframe containing the number of appearences per animal."
   ]
  },
  {
   "cell_type": "code",
   "metadata": {
    "deletable": false,
    "nbgrader": {
     "cell_type": "code",
     "checksum": "b290e9ac2650733cc7e0a85440760f06",
     "grade": false,
     "grade_id": "cell-7a2b6affcb2a634d",
     "locked": false,
     "schema_version": 3,
     "solution": true,
     "task": false
    },
    "ExecuteTime": {
     "end_time": "2025-10-07T08:03:17.338678Z",
     "start_time": "2025-10-07T08:03:17.322474Z"
    }
   },
   "source": [
    "def outputDf(inputDF):    \n",
    "    # YOUR CODE HERE\n",
    "    # raise NotImplementedError()\n",
    "    df_filtered = inputDF.filter(col(\"animal_name\").isNotNull())\n",
    "\n",
    "    df_count = df_filtered.groupBy(\"animal_name\") \\\n",
    "                          .agg(count(\"*\").alias(\"count\")) \\\n",
    "                          .orderBy(col(\"count\").desc())\n",
    "\n",
    "    return df_count"
   ],
   "outputs": [],
   "execution_count": 62
  },
  {
   "cell_type": "markdown",
   "metadata": {
    "deletable": false,
    "editable": false,
    "nbgrader": {
     "cell_type": "markdown",
     "checksum": "4ad9415d85a14f82af0937e053fc1c5f",
     "grade": false,
     "grade_id": "cell-48f8defd689bc680",
     "locked": true,
     "schema_version": 3,
     "solution": false,
     "task": false
    }
   },
   "source": [
    "## createQuery\n",
    "\n",
    "Finally, you should start streaming the output dataframe with the `writeStream` method. You will have to include the options `format`=\"memory\", `queryName`=\"counts\" and `outputMode`=\"complete\".\n",
    "\n",
    "param `outputDF`: output dataframe created by `outputDf()`.\n",
    "\n",
    "`return`: a query on the output dataframe\n",
    "\n",
    "Note: the test might fail if you run cells one by one manually. Try to use the \"run all\" button."
   ]
  },
  {
   "cell_type": "code",
   "metadata": {
    "deletable": false,
    "nbgrader": {
     "cell_type": "code",
     "checksum": "1bfac23b72e1e42d23635e0fadabc005",
     "grade": false,
     "grade_id": "cell-99580774911edd99",
     "locked": false,
     "schema_version": 3,
     "solution": true,
     "task": false
    },
    "ExecuteTime": {
     "end_time": "2025-10-07T08:03:17.364130Z",
     "start_time": "2025-10-07T08:03:17.358308Z"
    }
   },
   "source": [
    "def createQuery(outputDF):    \n",
    "    # YOUR CODE HERE\n",
    "    # raise NotImplementedError()\n",
    "    query = outputDF.writeStream \\\n",
    "                    .format(\"memory\") \\\n",
    "                    .queryName(\"counts\") \\\n",
    "                    .outputMode(\"complete\") \\\n",
    "                    .start()\n",
    "    return query"
   ],
   "outputs": [],
   "execution_count": 63
  },
  {
   "cell_type": "code",
   "metadata": {
    "deletable": false,
    "editable": false,
    "nbgrader": {
     "cell_type": "code",
     "checksum": "a9eeef7a6b416dbd0ac650601badb6e1",
     "grade": false,
     "grade_id": "cell-d6306f5d4ea1bb85",
     "locked": true,
     "schema_version": 3,
     "solution": false,
     "task": false
    },
    "ExecuteTime": {
     "end_time": "2025-10-07T08:03:18.017485Z",
     "start_time": "2025-10-07T08:03:17.398332Z"
    }
   },
   "source": [
    "'''streaming tests invoking'''\n",
    "\n",
    "inputStreamDf = inputDf(path)\n",
    "outputStreamDf= outputDf(inputStreamDf)\n",
    "query = createQuery(outputStreamDf)"
   ],
   "outputs": [],
   "execution_count": 64
  },
  {
   "cell_type": "code",
   "metadata": {
    "deletable": false,
    "editable": false,
    "nbgrader": {
     "cell_type": "code",
     "checksum": "e486f1ff71bc4d4007101ca9cabd3a26",
     "grade": true,
     "grade_id": "cell-1fb26e889b33a1b0",
     "locked": true,
     "points": 1,
     "schema_version": 3,
     "solution": false,
     "task": false
    },
    "ExecuteTime": {
     "end_time": "2025-10-07T08:03:18.275511Z",
     "start_time": "2025-10-07T08:03:18.028476Z"
    }
   },
   "source": [
    "'''streaming tests'''\n",
    "\n",
    "assert outputStreamDf.isStreaming, \"the outputDF was expected to be streaming\"\n",
    "\n",
    "df = spark.sql(\"select * from counts\")\n",
    "\n",
    "assert df.dtypes == fakeDf.dtypes, \"the schema was expected to be %s but it was %s\" % (fakeDf.dtypes, df.dtypes)\n",
    "\n",
    "x = df.count()\n",
    "assert df.count() == 0, \"the number of rows was expected to be 0 when the streaming just started but it was %s\" % x\n",
    "\n",
    "assert query.isActive, \"The streaming query should be active.\""
   ],
   "outputs": [],
   "execution_count": 65
  },
  {
   "cell_type": "code",
   "metadata": {
    "ExecuteTime": {
     "end_time": "2025-10-07T08:03:18.309578Z",
     "start_time": "2025-10-07T08:03:18.304135Z"
    }
   },
   "source": [
    "# You can print streaming here by adjusting n, but set n to 0 before submitting\n",
    "n = 0\n",
    "for i in range(n):\n",
    "    clear_output(wait=True)\n",
    "    display(query.status)\n",
    "    display(spark.sql('SELECT * FROM counts').show())\n",
    "    time.sleep(3)"
   ],
   "outputs": [],
   "execution_count": 66
  },
  {
   "cell_type": "code",
   "metadata": {
    "deletable": false,
    "editable": false,
    "nbgrader": {
     "cell_type": "code",
     "checksum": "3e36a544531bac07609c5536252a0610",
     "grade": false,
     "grade_id": "cell-dd5b6197b17972e4",
     "locked": true,
     "schema_version": 3,
     "solution": false,
     "task": false
    },
    "ExecuteTime": {
     "end_time": "2025-10-07T08:03:24.348838Z",
     "start_time": "2025-10-07T08:03:18.333663Z"
    }
   },
   "source": [
    "query.stop()"
   ],
   "outputs": [
    {
     "name": "stderr",
     "output_type": "stream",
     "text": [
      "                                                                                \r"
     ]
    }
   ],
   "execution_count": 67
  },
  {
   "cell_type": "code",
   "metadata": {
    "slideshow": {
     "slide_type": ""
    },
    "tags": [],
    "ExecuteTime": {
     "end_time": "2025-10-07T08:03:24.370972Z",
     "start_time": "2025-10-07T08:03:24.367008Z"
    }
   },
   "source": [],
   "outputs": [],
   "execution_count": null
  }
 ],
 "metadata": {
  "interpreter": {
   "hash": "d074b6b7a4d7b8adf89df935b7701a8c4e0af999254745575407f19f2a6d6544"
  },
  "kernelspec": {
   "display_name": "Python 3 (ipykernel)",
   "language": "python",
   "name": "python3"
  },
  "language_info": {
   "codemirror_mode": {
    "name": "ipython",
    "version": 3
   },
   "file_extension": ".py",
   "mimetype": "text/x-python",
   "name": "python",
   "nbconvert_exporter": "python",
   "pygments_lexer": "ipython3",
   "version": "3.8.10"
  }
 },
 "nbformat": 4,
 "nbformat_minor": 4
}
