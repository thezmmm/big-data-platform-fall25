{
 "cells": [
  {
   "cell_type": "markdown",
   "metadata": {},
   "source": [
    "Before you turn this problem in, make sure everything runs as expected. First, **restart the kernel** (in the menubar, select Kernel$\\rightarrow$Restart) and then **run all cells** (in the menubar, select Cell$\\rightarrow$Run All).\n",
    "\n",
    "Make sure you fill in any place that says `YOUR CODE HERE` or \"YOUR ANSWER HERE\". You can run all the tests with the validate button. If the validate command takes too long, you can also confirm that you pass all the tests if you can run through the whole notebook without getting validation errors."
   ]
  },
  {
   "cell_type": "markdown",
   "metadata": {
    "deletable": false,
    "editable": false,
    "nbgrader": {
     "cell_type": "markdown",
     "checksum": "535c21960d4663d5edac398cb445d087",
     "grade": false,
     "grade_id": "jupyter",
     "locked": true,
     "schema_version": 3,
     "solution": false
    }
   },
   "source": [
    "For this problem set, we'll be using the Jupyter notebook:\n",
    "\n",
    "![](jupyter.png)"
   ]
  },
  {
   "cell_type": "code",
   "metadata": {
    "deletable": false,
    "editable": false,
    "nbgrader": {
     "cell_type": "code",
     "checksum": "5ccf94d8cbd27b631b475429ac82195d",
     "grade": false,
     "grade_id": "cell-6ca6f76edb16bfe7",
     "locked": true,
     "schema_version": 3,
     "solution": false,
     "task": false
    },
    "ExecuteTime": {
     "end_time": "2025-09-11T09:45:56.546052Z",
     "start_time": "2025-09-11T09:45:56.533922Z"
    }
   },
   "source": [
    "from pyspark import SparkContext, SparkConf\n",
    "from pyspark.sql import SparkSession\n",
    "\n",
    "spark = SparkSession.builder \\\n",
    "    .appName(\"Intro\") \\\n",
    "    .master(\"local\") \\\n",
    "    .config(\"spark.ui.showConsoleProgress\", \"false\") \\\n",
    "    .getOrCreate()\n",
    "sc = spark.sparkContext"
   ],
   "outputs": [],
   "execution_count": 6
  },
  {
   "cell_type": "markdown",
   "metadata": {
    "deletable": false,
    "editable": false,
    "nbgrader": {
     "cell_type": "markdown",
     "checksum": "63c061bec8ad8e071932319f274b629c",
     "grade": false,
     "grade_id": "cell-986af9118500d2cb",
     "locked": true,
     "schema_version": 3,
     "solution": false,
     "task": false
    }
   },
   "source": [
    "---\n",
    "## Intro\n",
    "\n",
    "Write a pyspark program that returns the total word count of the Shakaspeare's sonnets. Check https://spark.apache.org/docs/latest/rdd-programming-guide.html and http://spark.apache.org/examples.html for examples. Hint: Consider using flatMap function and String split() method with whitespace as separator.\n",
    "\n",
    "Below is a function called `words`. It already has one line of code that creates a variable `file`. You have to use RDD functions to find out the total word count of the file, then return the answer. Please only use whitespace as the delimiter for splitting words. Write your answer in the `# YOUR CODE HERE` part. You shold also remove the `raise NotImplementedError()` line. The purpose of this exercise is to learn how the jupyter notebook environment works. If the exercise feels too difficult, you can just return the correct answer which is 20926. Once you have written your answer, you can press the `Run all`button that looks like two arrows. Alternatively, you can open the `Kernel` tab and click `Restart & Run All`. You can also run cells seperately with the Run button, but you have to run the import cell and other previous cells first. You can also confirm that you have passed all the local tests if you can run through the whole notebook without getting any assertion errors from the test cells."
   ]
  },
  {
   "cell_type": "code",
   "metadata": {
    "deletable": false,
    "nbgrader": {
     "cell_type": "code",
     "checksum": "526288a11a4dd7b14d811d68e9b3ff2c",
     "grade": false,
     "grade_id": "words",
     "locked": false,
     "schema_version": 3,
     "solution": true
    },
    "ExecuteTime": {
     "end_time": "2025-09-11T09:45:56.571233Z",
     "start_time": "2025-09-11T09:45:56.562425Z"
    }
   },
   "source": [
    "\n",
    "def words():\n",
    "    file = sc.textFile(\"shakespeare.txt\")\n",
    "    # YOUR CODE HERE\n",
    "    # words = file.flatMap(lambda line: line.split()).count()\n",
    "    return 20926"
   ],
   "outputs": [],
   "execution_count": 7
  },
  {
   "cell_type": "code",
   "metadata": {
    "deletable": false,
    "editable": false,
    "nbgrader": {
     "cell_type": "code",
     "checksum": "8ea7940fef0d197205dde18471e8eb07",
     "grade": false,
     "grade_id": "cell-f7120a879525fa73",
     "locked": true,
     "schema_version": 3,
     "solution": false,
     "task": false
    },
    "ExecuteTime": {
     "end_time": "2025-09-11T09:45:56.644192Z",
     "start_time": "2025-09-11T09:45:56.590942Z"
    }
   },
   "source": [
    "words()"
   ],
   "outputs": [
    {
     "data": {
      "text/plain": [
       "20926"
      ]
     },
     "execution_count": 8,
     "metadata": {},
     "output_type": "execute_result"
    }
   ],
   "execution_count": 8
  },
  {
   "cell_type": "code",
   "metadata": {
    "deletable": false,
    "editable": false,
    "nbgrader": {
     "cell_type": "code",
     "checksum": "ee3b9557aadea46e2658be5c53e90e7d",
     "grade": true,
     "grade_id": "correct_words",
     "locked": false,
     "points": 1,
     "schema_version": 3,
     "solution": false
    },
    "ExecuteTime": {
     "end_time": "2025-09-11T09:45:56.715544Z",
     "start_time": "2025-09-11T09:45:56.664686Z"
    }
   },
   "source": [
    "\"\"\"Check that words returns the correct output\"\"\"\n",
    "assert words() == 20926, \"the number of words was supposed to be 20926 but it was %s\" % words()"
   ],
   "outputs": [],
   "execution_count": 9
  },
  {
   "cell_type": "code",
   "metadata": {
    "deletable": false,
    "editable": false,
    "nbgrader": {
     "cell_type": "code",
     "checksum": "43739584083fd8d2525761d3100aee6d",
     "grade": false,
     "grade_id": "cell-20e66d7d2615f80f",
     "locked": true,
     "schema_version": 3,
     "solution": false,
     "task": false
    },
    "ExecuteTime": {
     "end_time": "2025-09-11T09:45:56.867397Z",
     "start_time": "2025-09-11T09:45:56.753835Z"
    }
   },
   "source": [
    "sc.stop()"
   ],
   "outputs": [],
   "execution_count": 10
  },
  {
   "cell_type": "code",
   "metadata": {
    "ExecuteTime": {
     "end_time": "2025-09-11T09:45:56.882316Z",
     "start_time": "2025-09-11T09:45:56.877601Z"
    }
   },
   "source": [],
   "outputs": [],
   "execution_count": null
  }
 ],
 "metadata": {
  "kernelspec": {
   "display_name": "Python 3 (ipykernel)",
   "language": "python",
   "name": "python3"
  },
  "language_info": {
   "codemirror_mode": {
    "name": "ipython",
    "version": 3
   },
   "file_extension": ".py",
   "mimetype": "text/x-python",
   "name": "python",
   "nbconvert_exporter": "python",
   "pygments_lexer": "ipython3",
   "version": "3.8.13"
  }
 },
 "nbformat": 4,
 "nbformat_minor": 4
}
